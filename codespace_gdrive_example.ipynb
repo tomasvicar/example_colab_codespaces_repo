{
 "cells": [
  {
   "cell_type": "markdown",
   "metadata": {},
   "source": [
    "- you can mount gdrive on linux with rclone\n",
    "\n",
    "rclone config  and folow setup\n",
    "\n",
    "mkdir ~/gdrive\n",
    "\n",
    "rclone mount gdrive: ~/gdrive --daemon\n",
    "\n",
    "- with codespaces you cannot use browser authentication and mound is not working\n",
    "\n",
    "- i have prepared rclone.conf and it is copied to rclone with postCreateCommand\n",
    "\n",
    "- you can get token and use it "
   ]
  },
  {
   "cell_type": "markdown",
   "metadata": {},
   "source": [
    "step 1 - open https://developers.google.com/\n",
    "\n",
    "step 2 - copy https://www.googleapis.com/auth/drive and authorize\n",
    "\n",
    "step 3 - click exchange for token\n",
    "\n",
    "step 4 - copy {\"access_token\": \"ya29............}\n",
    "\n",
    "step 5 (- variant1 - run  rclone config reconnect gdrive: select n and copy token there; token need to be removed from ~/.config/rclone/rclone.conf before)\n",
    "       - variant2 - https://github.com/settings/codespaces and create secret with token\n",
    "\n",
    "step 6 - copy folder  mkdir ~/data   and   rclone copy gdrive:/test_data ~/data --progress"
   ]
  },
  {
   "cell_type": "code",
   "execution_count": null,
   "metadata": {},
   "outputs": [],
   "source": [
    "\n",
    "\n"
   ]
  }
 ],
 "metadata": {
  "kernelspec": {
   "display_name": "Python 3",
   "language": "python",
   "name": "python3"
  },
  "language_info": {
   "name": "python",
   "version": "3.12.8"
  }
 },
 "nbformat": 4,
 "nbformat_minor": 2
}
