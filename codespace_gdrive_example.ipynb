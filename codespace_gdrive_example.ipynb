{
 "cells": [
  {
   "cell_type": "markdown",
   "metadata": {},
   "source": [
    "- you can mount gdrive on linux with rclone\n",
    "\n",
    "rclone config  and folow setup\n",
    "\n",
    "mkdir ~/gdrive\n",
    "\n",
    "rclone mount gdrive: ~/gdrive --daemon\n",
    "\n",
    "- with codespaces you cannot use browser authentication and mound is not working\n",
    "\n",
    "- i have prepared rclone.conf and it is copied to rclone with postCreateCommand\n",
    "\n",
    "- you can get token and use it "
   ]
  },
  {
   "cell_type": "markdown",
   "metadata": {},
   "source": [
    "step 1 - open https://developers.google.com/\n",
    "\n",
    "step 2 - copy https://www.googleapis.com/auth/drive and authorize\n",
    "\n",
    "step 3 - click exchange for token\n",
    "\n",
    "step 4 - copy {\"access_token\": \"ya29............}\n",
    "\n",
    "step 5 - run  rclone config reconnect gdrive: select n and copy token there\n",
    "\n",
    "step 6 - copy folder:  mkdir ~/data   and   rclone copy gdrive:/test_data ~/data --progress"
   ]
  },
  {
   "cell_type": "code",
   "execution_count": 5,
   "metadata": {},
   "outputs": [
    {
     "name": "stdout",
     "output_type": "stream",
     "text": [
      "\u001b[2K\u001b[1GTransferred:   \t          0 B / 0 B, -, 0 B/s, ETA -\n",
      "Elapsed time:         0.5s\u001b[2K\u001b[1A\u001b[2K\u001b[1GTransferred:   \t          0 B / 0 B, -, 0 B/s, ETA -\n",
      "Transferred:            0 / 1, 0%\n",
      "Elapsed time:         1.0s\n",
      "Transferring:\n",
      " *                                 fdsfsdfs.docx: transferring\u001b[2K\u001b[1A\u001b[2K\u001b[1A\u001b[2K\u001b[1A\u001b[2K\u001b[1A\u001b[2K\u001b[1GTransferred:   \t    6.263 KiB / 6.263 KiB, 100%, 0 B/s, ETA -\n",
      "Transferred:            2 / 2, 100%\n",
      "Elapsed time:         1.2s\n",
      "fdsfsdfs.docx\n",
      "/home/vscode/data\n"
     ]
    }
   ],
   "source": [
    "!rm -rf ~/data\n",
    "!mkdir ~/data\n",
    "!rclone copy gdrive:/test_data ~/data --progress\n",
    "!ls ~/data\n",
    "!echo ~/data\n",
    "\n"
   ]
  }
 ],
 "metadata": {
  "kernelspec": {
   "display_name": "Python 3",
   "language": "python",
   "name": "python3"
  },
  "language_info": {
   "codemirror_mode": {
    "name": "ipython",
    "version": 3
   },
   "file_extension": ".py",
   "mimetype": "text/x-python",
   "name": "python",
   "nbconvert_exporter": "python",
   "pygments_lexer": "ipython3",
   "version": "3.12.8"
  }
 },
 "nbformat": 4,
 "nbformat_minor": 2
}
